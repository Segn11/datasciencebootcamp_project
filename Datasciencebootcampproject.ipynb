{
  "nbformat": 4,
  "nbformat_minor": 0,
  "metadata": {
    "colab": {
      "provenance": [],
      "authorship_tag": "ABX9TyNzVriIdXFkz03a3UPXPA1t",
      "include_colab_link": true
    },
    "kernelspec": {
      "name": "python3",
      "display_name": "Python 3"
    },
    "language_info": {
      "name": "python"
    }
  },
  "cells": [
    {
      "cell_type": "markdown",
      "metadata": {
        "id": "view-in-github",
        "colab_type": "text"
      },
      "source": [
        "<a href=\"https://colab.research.google.com/github/Segn11/datasciencebootcamp_project/blob/showcase/Datasciencebootcampproject.ipynb\" target=\"_parent\"><img src=\"https://colab.research.google.com/assets/colab-badge.svg\" alt=\"Open In Colab\"/></a>"
      ]
    },
    {
      "cell_type": "code",
      "execution_count": null,
      "metadata": {
        "id": "X4Zp8p07l5jS"
      },
      "outputs": [],
      "source": [
        "# 1. What is the difference between a list, a dictionary, and a NumPy array? Give one example of each.\n"
      ]
    },
    {
      "cell_type": "markdown",
      "source": [
        "* List: A Python list is an ordered collection that can hold different types of data (integers, strings, objects, etc.). It's flexible but not optimized for mathematical operations.\n",
        "\n",
        "* Dictionary: A dictionary is an unordered collection of key-value pairs. It's used when you want to map one piece of data (the key) to another (the value).\n",
        "\n",
        "* NumPy Array: A NumPy array is a powerful data structure from the NumPy library, used for numerical computing. Unlike lists, it supports vectorized operations, meaning you can perform operations over the whole array efficiently."
      ],
      "metadata": {
        "id": "olI2AUT4ommn"
      }
    },
    {
      "cell_type": "code",
      "source": [
        "# Example of a List\n",
        "my_list = [1, \"apple\", 3.14]\n",
        "print(\"List:\", my_list)\n",
        "\n",
        "# Example of a Dictionary\n",
        "my_dict = {\"name\": \"Kena\", \"age\": 21}\n",
        "print(\"Dictionary:\", my_dict)\n",
        "\n",
        "# Example of a NumPy Array\n",
        "import numpy as np\n",
        "\n",
        "my_array = np.array([1, 2, 3, 4])\n",
        "print(\"NumPy Array:\", my_array)\n"
      ],
      "metadata": {
        "colab": {
          "base_uri": "https://localhost:8080/"
        },
        "id": "53QIUH4XowaL",
        "outputId": "057f72f3-c476-48e3-e654-9052a92eb58f"
      },
      "execution_count": 2,
      "outputs": [
        {
          "output_type": "stream",
          "name": "stdout",
          "text": [
            "List: [1, 'apple', 3.14]\n",
            "Dictionary: {'name': 'Kena', 'age': 21}\n",
            "NumPy Array: [1 2 3 4]\n"
          ]
        }
      ]
    },
    {
      "cell_type": "code",
      "source": [
        "# 2. Given the list [10, 15, 20, 25, 30], write a function that returns the square of only even numbers.\n"
      ],
      "metadata": {
        "id": "U_iFFL32pWNX"
      },
      "execution_count": null,
      "outputs": []
    },
    {
      "cell_type": "code",
      "source": [
        "def square_even_numbers(numbers):\n",
        "    return [x**2 for x in numbers if x % 2 == 0]\n",
        "\n",
        "input_list = [10, 15, 20, 25, 30]\n",
        "result = square_even_numbers(input_list)\n",
        "print(\"Squared even numbers:\", result)\n"
      ],
      "metadata": {
        "colab": {
          "base_uri": "https://localhost:8080/"
        },
        "id": "y8XZTWGTpvSH",
        "outputId": "6d96c233-c05c-436b-d17d-1a76f71f4493"
      },
      "execution_count": 4,
      "outputs": [
        {
          "output_type": "stream",
          "name": "stdout",
          "text": [
            "Squared even numbers: [100, 400, 900]\n"
          ]
        }
      ]
    },
    {
      "cell_type": "markdown",
      "source": [
        "**Explanation:**\n",
        "To solve this, we will:\n",
        "\n",
        "1.Loop through the list.\n",
        "\n",
        "2.Check if each number is even (i.e., divisible by 2).\n",
        "\n",
        "3.If it is, square it.\n",
        "\n",
        "4.Collect the squared values and return them."
      ],
      "metadata": {
        "id": "28rSLrFvpyeV"
      }
    },
    {
      "cell_type": "code",
      "source": [
        "# 3. What does the following code output, and why?\n",
        ""
      ],
      "metadata": {
        "id": "CP6q0aobqJol"
      },
      "execution_count": null,
      "outputs": []
    },
    {
      "cell_type": "code",
      "source": [
        "x = [1, 2, 3]\n",
        "y = x\n",
        "y.append(4)\n",
        "print(x)\n"
      ],
      "metadata": {
        "colab": {
          "base_uri": "https://localhost:8080/"
        },
        "id": "6Zr2D1g2rTh4",
        "outputId": "9712856e-9929-46ef-977d-1802c13c06bc"
      },
      "execution_count": 5,
      "outputs": [
        {
          "output_type": "stream",
          "name": "stdout",
          "text": [
            "[1, 2, 3, 4]\n"
          ]
        }
      ]
    },
    {
      "cell_type": "markdown",
      "source": [
        "**Explanation:**\n",
        "* In Python, lists are mutable objects and variables like x and y store references to those objects.\n",
        "\n",
        "* When you do y = x, you're not copying the list — you're making y point to the same list in memory as x.\n",
        "\n",
        "* So when you do y.append(4), it modifies the list both x and y are pointing to.\n",
        "\n",
        "* That’s why printing x shows [1, 2, 3, 4].\n",
        "\n",
        "\n"
      ],
      "metadata": {
        "id": "XpNL-TC7rijC"
      }
    },
    {
      "cell_type": "code",
      "source": [
        "# 4. What does .shape and .describe() tell you about a pandas DataFrame? Show using an example."
      ],
      "metadata": {
        "id": "U1v9BlI7sdyT"
      },
      "execution_count": 10,
      "outputs": []
    },
    {
      "cell_type": "markdown",
      "source": [
        "**Explanation:**\n",
        "\n",
        "**.shape** gives you the dimensions of the DataFrame as a tuple: (rows, columns).\n",
        "-> It's useful for quickly checking the size of your dataset.\n",
        "\n",
        "**.describe()** provides summary statistics of numerical columns, such as:\n",
        "-> Count, Mean, Std Dev, Min, 25%, 50% (median), 75%, and Max.\n",
        "-> It’s helpful for understanding the distribution and spread of your data."
      ],
      "metadata": {
        "id": "EelXQdubsnXW"
      }
    },
    {
      "cell_type": "code",
      "source": [
        "import pandas as pd\n",
        "\n",
        "# Create a sample DataFrame\n",
        "data = {\n",
        "    'Age': [22, 25, 30, 35, 40],\n",
        "    'Salary': [3000, 4000, 5000, 6000, 7000]\n",
        "}\n",
        "\n",
        "df = pd.DataFrame(data)\n",
        "\n",
        "# Show shape\n",
        "print(\"Shape of DataFrame:\", df.shape)\n",
        "\n",
        "# Show description\n",
        "print(\"\\nDescription of DataFrame:\")\n",
        "print(df.describe())\n"
      ],
      "metadata": {
        "colab": {
          "base_uri": "https://localhost:8080/"
        },
        "id": "3oO12wepsy3X",
        "outputId": "44abc5ee-51bc-4349-9e5b-d6d82be6402a"
      },
      "execution_count": 7,
      "outputs": [
        {
          "output_type": "stream",
          "name": "stdout",
          "text": [
            "Shape of DataFrame: (5, 2)\n",
            "\n",
            "Description of DataFrame:\n",
            "             Age      Salary\n",
            "count   5.000000     5.00000\n",
            "mean   30.400000  5000.00000\n",
            "std     7.300685  1581.13883\n",
            "min    22.000000  3000.00000\n",
            "25%    25.000000  4000.00000\n",
            "50%    30.000000  5000.00000\n",
            "75%    35.000000  6000.00000\n",
            "max    40.000000  7000.00000\n"
          ]
        }
      ]
    },
    {
      "cell_type": "code",
      "source": [
        "''' 5. Load this CSV: airtravel.csv\n",
        "Print the first 5 rows\n",
        "What do you notice about the data?\n",
        "'''"
      ],
      "metadata": {
        "id": "QI6w5n09tENL"
      },
      "execution_count": null,
      "outputs": []
    },
    {
      "cell_type": "code",
      "source": [
        "import pandas as pd\n",
        "from google.colab import files\n",
        "\n",
        "# Upload the CSV file manually\n",
        "uploaded = files.upload()\n",
        "\n",
        "# Load it into a DataFrame (assuming airtravel.csv is uploaded)\n",
        "df = pd.read_csv('airtravel.csv')\n",
        "\n",
        "# Show the first 5 rows\n",
        "df.head()\n",
        "\n"
      ],
      "metadata": {
        "colab": {
          "base_uri": "https://localhost:8080/",
          "height": 262
        },
        "id": "VqhQl7aBulKQ",
        "outputId": "0d5371f6-2984-4153-be3e-56aecb86fce0"
      },
      "execution_count": 9,
      "outputs": [
        {
          "output_type": "display_data",
          "data": {
            "text/plain": [
              "<IPython.core.display.HTML object>"
            ],
            "text/html": [
              "\n",
              "     <input type=\"file\" id=\"files-1865ccf2-0dd4-4875-a536-3953cf645b05\" name=\"files[]\" multiple disabled\n",
              "        style=\"border:none\" />\n",
              "     <output id=\"result-1865ccf2-0dd4-4875-a536-3953cf645b05\">\n",
              "      Upload widget is only available when the cell has been executed in the\n",
              "      current browser session. Please rerun this cell to enable.\n",
              "      </output>\n",
              "      <script>// Copyright 2017 Google LLC\n",
              "//\n",
              "// Licensed under the Apache License, Version 2.0 (the \"License\");\n",
              "// you may not use this file except in compliance with the License.\n",
              "// You may obtain a copy of the License at\n",
              "//\n",
              "//      http://www.apache.org/licenses/LICENSE-2.0\n",
              "//\n",
              "// Unless required by applicable law or agreed to in writing, software\n",
              "// distributed under the License is distributed on an \"AS IS\" BASIS,\n",
              "// WITHOUT WARRANTIES OR CONDITIONS OF ANY KIND, either express or implied.\n",
              "// See the License for the specific language governing permissions and\n",
              "// limitations under the License.\n",
              "\n",
              "/**\n",
              " * @fileoverview Helpers for google.colab Python module.\n",
              " */\n",
              "(function(scope) {\n",
              "function span(text, styleAttributes = {}) {\n",
              "  const element = document.createElement('span');\n",
              "  element.textContent = text;\n",
              "  for (const key of Object.keys(styleAttributes)) {\n",
              "    element.style[key] = styleAttributes[key];\n",
              "  }\n",
              "  return element;\n",
              "}\n",
              "\n",
              "// Max number of bytes which will be uploaded at a time.\n",
              "const MAX_PAYLOAD_SIZE = 100 * 1024;\n",
              "\n",
              "function _uploadFiles(inputId, outputId) {\n",
              "  const steps = uploadFilesStep(inputId, outputId);\n",
              "  const outputElement = document.getElementById(outputId);\n",
              "  // Cache steps on the outputElement to make it available for the next call\n",
              "  // to uploadFilesContinue from Python.\n",
              "  outputElement.steps = steps;\n",
              "\n",
              "  return _uploadFilesContinue(outputId);\n",
              "}\n",
              "\n",
              "// This is roughly an async generator (not supported in the browser yet),\n",
              "// where there are multiple asynchronous steps and the Python side is going\n",
              "// to poll for completion of each step.\n",
              "// This uses a Promise to block the python side on completion of each step,\n",
              "// then passes the result of the previous step as the input to the next step.\n",
              "function _uploadFilesContinue(outputId) {\n",
              "  const outputElement = document.getElementById(outputId);\n",
              "  const steps = outputElement.steps;\n",
              "\n",
              "  const next = steps.next(outputElement.lastPromiseValue);\n",
              "  return Promise.resolve(next.value.promise).then((value) => {\n",
              "    // Cache the last promise value to make it available to the next\n",
              "    // step of the generator.\n",
              "    outputElement.lastPromiseValue = value;\n",
              "    return next.value.response;\n",
              "  });\n",
              "}\n",
              "\n",
              "/**\n",
              " * Generator function which is called between each async step of the upload\n",
              " * process.\n",
              " * @param {string} inputId Element ID of the input file picker element.\n",
              " * @param {string} outputId Element ID of the output display.\n",
              " * @return {!Iterable<!Object>} Iterable of next steps.\n",
              " */\n",
              "function* uploadFilesStep(inputId, outputId) {\n",
              "  const inputElement = document.getElementById(inputId);\n",
              "  inputElement.disabled = false;\n",
              "\n",
              "  const outputElement = document.getElementById(outputId);\n",
              "  outputElement.innerHTML = '';\n",
              "\n",
              "  const pickedPromise = new Promise((resolve) => {\n",
              "    inputElement.addEventListener('change', (e) => {\n",
              "      resolve(e.target.files);\n",
              "    });\n",
              "  });\n",
              "\n",
              "  const cancel = document.createElement('button');\n",
              "  inputElement.parentElement.appendChild(cancel);\n",
              "  cancel.textContent = 'Cancel upload';\n",
              "  const cancelPromise = new Promise((resolve) => {\n",
              "    cancel.onclick = () => {\n",
              "      resolve(null);\n",
              "    };\n",
              "  });\n",
              "\n",
              "  // Wait for the user to pick the files.\n",
              "  const files = yield {\n",
              "    promise: Promise.race([pickedPromise, cancelPromise]),\n",
              "    response: {\n",
              "      action: 'starting',\n",
              "    }\n",
              "  };\n",
              "\n",
              "  cancel.remove();\n",
              "\n",
              "  // Disable the input element since further picks are not allowed.\n",
              "  inputElement.disabled = true;\n",
              "\n",
              "  if (!files) {\n",
              "    return {\n",
              "      response: {\n",
              "        action: 'complete',\n",
              "      }\n",
              "    };\n",
              "  }\n",
              "\n",
              "  for (const file of files) {\n",
              "    const li = document.createElement('li');\n",
              "    li.append(span(file.name, {fontWeight: 'bold'}));\n",
              "    li.append(span(\n",
              "        `(${file.type || 'n/a'}) - ${file.size} bytes, ` +\n",
              "        `last modified: ${\n",
              "            file.lastModifiedDate ? file.lastModifiedDate.toLocaleDateString() :\n",
              "                                    'n/a'} - `));\n",
              "    const percent = span('0% done');\n",
              "    li.appendChild(percent);\n",
              "\n",
              "    outputElement.appendChild(li);\n",
              "\n",
              "    const fileDataPromise = new Promise((resolve) => {\n",
              "      const reader = new FileReader();\n",
              "      reader.onload = (e) => {\n",
              "        resolve(e.target.result);\n",
              "      };\n",
              "      reader.readAsArrayBuffer(file);\n",
              "    });\n",
              "    // Wait for the data to be ready.\n",
              "    let fileData = yield {\n",
              "      promise: fileDataPromise,\n",
              "      response: {\n",
              "        action: 'continue',\n",
              "      }\n",
              "    };\n",
              "\n",
              "    // Use a chunked sending to avoid message size limits. See b/62115660.\n",
              "    let position = 0;\n",
              "    do {\n",
              "      const length = Math.min(fileData.byteLength - position, MAX_PAYLOAD_SIZE);\n",
              "      const chunk = new Uint8Array(fileData, position, length);\n",
              "      position += length;\n",
              "\n",
              "      const base64 = btoa(String.fromCharCode.apply(null, chunk));\n",
              "      yield {\n",
              "        response: {\n",
              "          action: 'append',\n",
              "          file: file.name,\n",
              "          data: base64,\n",
              "        },\n",
              "      };\n",
              "\n",
              "      let percentDone = fileData.byteLength === 0 ?\n",
              "          100 :\n",
              "          Math.round((position / fileData.byteLength) * 100);\n",
              "      percent.textContent = `${percentDone}% done`;\n",
              "\n",
              "    } while (position < fileData.byteLength);\n",
              "  }\n",
              "\n",
              "  // All done.\n",
              "  yield {\n",
              "    response: {\n",
              "      action: 'complete',\n",
              "    }\n",
              "  };\n",
              "}\n",
              "\n",
              "scope.google = scope.google || {};\n",
              "scope.google.colab = scope.google.colab || {};\n",
              "scope.google.colab._files = {\n",
              "  _uploadFiles,\n",
              "  _uploadFilesContinue,\n",
              "};\n",
              "})(self);\n",
              "</script> "
            ]
          },
          "metadata": {}
        },
        {
          "output_type": "stream",
          "name": "stdout",
          "text": [
            "Saving airtravel.csv to airtravel.csv\n"
          ]
        },
        {
          "output_type": "execute_result",
          "data": {
            "text/plain": [
              "  Month   \"1958\"   \"1959\"   \"1960\"\n",
              "0   JAN      340      360      417\n",
              "1   FEB      318      342      391\n",
              "2   MAR      362      406      419\n",
              "3   APR      348      396      461\n",
              "4   MAY      363      420      472"
            ],
            "text/html": [
              "\n",
              "  <div id=\"df-145dd9aa-85e7-4e81-adc6-c6df888de452\" class=\"colab-df-container\">\n",
              "    <div>\n",
              "<style scoped>\n",
              "    .dataframe tbody tr th:only-of-type {\n",
              "        vertical-align: middle;\n",
              "    }\n",
              "\n",
              "    .dataframe tbody tr th {\n",
              "        vertical-align: top;\n",
              "    }\n",
              "\n",
              "    .dataframe thead th {\n",
              "        text-align: right;\n",
              "    }\n",
              "</style>\n",
              "<table border=\"1\" class=\"dataframe\">\n",
              "  <thead>\n",
              "    <tr style=\"text-align: right;\">\n",
              "      <th></th>\n",
              "      <th>Month</th>\n",
              "      <th>\"1958\"</th>\n",
              "      <th>\"1959\"</th>\n",
              "      <th>\"1960\"</th>\n",
              "    </tr>\n",
              "  </thead>\n",
              "  <tbody>\n",
              "    <tr>\n",
              "      <th>0</th>\n",
              "      <td>JAN</td>\n",
              "      <td>340</td>\n",
              "      <td>360</td>\n",
              "      <td>417</td>\n",
              "    </tr>\n",
              "    <tr>\n",
              "      <th>1</th>\n",
              "      <td>FEB</td>\n",
              "      <td>318</td>\n",
              "      <td>342</td>\n",
              "      <td>391</td>\n",
              "    </tr>\n",
              "    <tr>\n",
              "      <th>2</th>\n",
              "      <td>MAR</td>\n",
              "      <td>362</td>\n",
              "      <td>406</td>\n",
              "      <td>419</td>\n",
              "    </tr>\n",
              "    <tr>\n",
              "      <th>3</th>\n",
              "      <td>APR</td>\n",
              "      <td>348</td>\n",
              "      <td>396</td>\n",
              "      <td>461</td>\n",
              "    </tr>\n",
              "    <tr>\n",
              "      <th>4</th>\n",
              "      <td>MAY</td>\n",
              "      <td>363</td>\n",
              "      <td>420</td>\n",
              "      <td>472</td>\n",
              "    </tr>\n",
              "  </tbody>\n",
              "</table>\n",
              "</div>\n",
              "    <div class=\"colab-df-buttons\">\n",
              "\n",
              "  <div class=\"colab-df-container\">\n",
              "    <button class=\"colab-df-convert\" onclick=\"convertToInteractive('df-145dd9aa-85e7-4e81-adc6-c6df888de452')\"\n",
              "            title=\"Convert this dataframe to an interactive table.\"\n",
              "            style=\"display:none;\">\n",
              "\n",
              "  <svg xmlns=\"http://www.w3.org/2000/svg\" height=\"24px\" viewBox=\"0 -960 960 960\">\n",
              "    <path d=\"M120-120v-720h720v720H120Zm60-500h600v-160H180v160Zm220 220h160v-160H400v160Zm0 220h160v-160H400v160ZM180-400h160v-160H180v160Zm440 0h160v-160H620v160ZM180-180h160v-160H180v160Zm440 0h160v-160H620v160Z\"/>\n",
              "  </svg>\n",
              "    </button>\n",
              "\n",
              "  <style>\n",
              "    .colab-df-container {\n",
              "      display:flex;\n",
              "      gap: 12px;\n",
              "    }\n",
              "\n",
              "    .colab-df-convert {\n",
              "      background-color: #E8F0FE;\n",
              "      border: none;\n",
              "      border-radius: 50%;\n",
              "      cursor: pointer;\n",
              "      display: none;\n",
              "      fill: #1967D2;\n",
              "      height: 32px;\n",
              "      padding: 0 0 0 0;\n",
              "      width: 32px;\n",
              "    }\n",
              "\n",
              "    .colab-df-convert:hover {\n",
              "      background-color: #E2EBFA;\n",
              "      box-shadow: 0px 1px 2px rgba(60, 64, 67, 0.3), 0px 1px 3px 1px rgba(60, 64, 67, 0.15);\n",
              "      fill: #174EA6;\n",
              "    }\n",
              "\n",
              "    .colab-df-buttons div {\n",
              "      margin-bottom: 4px;\n",
              "    }\n",
              "\n",
              "    [theme=dark] .colab-df-convert {\n",
              "      background-color: #3B4455;\n",
              "      fill: #D2E3FC;\n",
              "    }\n",
              "\n",
              "    [theme=dark] .colab-df-convert:hover {\n",
              "      background-color: #434B5C;\n",
              "      box-shadow: 0px 1px 3px 1px rgba(0, 0, 0, 0.15);\n",
              "      filter: drop-shadow(0px 1px 2px rgba(0, 0, 0, 0.3));\n",
              "      fill: #FFFFFF;\n",
              "    }\n",
              "  </style>\n",
              "\n",
              "    <script>\n",
              "      const buttonEl =\n",
              "        document.querySelector('#df-145dd9aa-85e7-4e81-adc6-c6df888de452 button.colab-df-convert');\n",
              "      buttonEl.style.display =\n",
              "        google.colab.kernel.accessAllowed ? 'block' : 'none';\n",
              "\n",
              "      async function convertToInteractive(key) {\n",
              "        const element = document.querySelector('#df-145dd9aa-85e7-4e81-adc6-c6df888de452');\n",
              "        const dataTable =\n",
              "          await google.colab.kernel.invokeFunction('convertToInteractive',\n",
              "                                                    [key], {});\n",
              "        if (!dataTable) return;\n",
              "\n",
              "        const docLinkHtml = 'Like what you see? Visit the ' +\n",
              "          '<a target=\"_blank\" href=https://colab.research.google.com/notebooks/data_table.ipynb>data table notebook</a>'\n",
              "          + ' to learn more about interactive tables.';\n",
              "        element.innerHTML = '';\n",
              "        dataTable['output_type'] = 'display_data';\n",
              "        await google.colab.output.renderOutput(dataTable, element);\n",
              "        const docLink = document.createElement('div');\n",
              "        docLink.innerHTML = docLinkHtml;\n",
              "        element.appendChild(docLink);\n",
              "      }\n",
              "    </script>\n",
              "  </div>\n",
              "\n",
              "\n",
              "<div id=\"df-cbf3f3ec-a4cb-4c7f-8d3c-e961f6d8d276\">\n",
              "  <button class=\"colab-df-quickchart\" onclick=\"quickchart('df-cbf3f3ec-a4cb-4c7f-8d3c-e961f6d8d276')\"\n",
              "            title=\"Suggest charts\"\n",
              "            style=\"display:none;\">\n",
              "\n",
              "<svg xmlns=\"http://www.w3.org/2000/svg\" height=\"24px\"viewBox=\"0 0 24 24\"\n",
              "     width=\"24px\">\n",
              "    <g>\n",
              "        <path d=\"M19 3H5c-1.1 0-2 .9-2 2v14c0 1.1.9 2 2 2h14c1.1 0 2-.9 2-2V5c0-1.1-.9-2-2-2zM9 17H7v-7h2v7zm4 0h-2V7h2v10zm4 0h-2v-4h2v4z\"/>\n",
              "    </g>\n",
              "</svg>\n",
              "  </button>\n",
              "\n",
              "<style>\n",
              "  .colab-df-quickchart {\n",
              "      --bg-color: #E8F0FE;\n",
              "      --fill-color: #1967D2;\n",
              "      --hover-bg-color: #E2EBFA;\n",
              "      --hover-fill-color: #174EA6;\n",
              "      --disabled-fill-color: #AAA;\n",
              "      --disabled-bg-color: #DDD;\n",
              "  }\n",
              "\n",
              "  [theme=dark] .colab-df-quickchart {\n",
              "      --bg-color: #3B4455;\n",
              "      --fill-color: #D2E3FC;\n",
              "      --hover-bg-color: #434B5C;\n",
              "      --hover-fill-color: #FFFFFF;\n",
              "      --disabled-bg-color: #3B4455;\n",
              "      --disabled-fill-color: #666;\n",
              "  }\n",
              "\n",
              "  .colab-df-quickchart {\n",
              "    background-color: var(--bg-color);\n",
              "    border: none;\n",
              "    border-radius: 50%;\n",
              "    cursor: pointer;\n",
              "    display: none;\n",
              "    fill: var(--fill-color);\n",
              "    height: 32px;\n",
              "    padding: 0;\n",
              "    width: 32px;\n",
              "  }\n",
              "\n",
              "  .colab-df-quickchart:hover {\n",
              "    background-color: var(--hover-bg-color);\n",
              "    box-shadow: 0 1px 2px rgba(60, 64, 67, 0.3), 0 1px 3px 1px rgba(60, 64, 67, 0.15);\n",
              "    fill: var(--button-hover-fill-color);\n",
              "  }\n",
              "\n",
              "  .colab-df-quickchart-complete:disabled,\n",
              "  .colab-df-quickchart-complete:disabled:hover {\n",
              "    background-color: var(--disabled-bg-color);\n",
              "    fill: var(--disabled-fill-color);\n",
              "    box-shadow: none;\n",
              "  }\n",
              "\n",
              "  .colab-df-spinner {\n",
              "    border: 2px solid var(--fill-color);\n",
              "    border-color: transparent;\n",
              "    border-bottom-color: var(--fill-color);\n",
              "    animation:\n",
              "      spin 1s steps(1) infinite;\n",
              "  }\n",
              "\n",
              "  @keyframes spin {\n",
              "    0% {\n",
              "      border-color: transparent;\n",
              "      border-bottom-color: var(--fill-color);\n",
              "      border-left-color: var(--fill-color);\n",
              "    }\n",
              "    20% {\n",
              "      border-color: transparent;\n",
              "      border-left-color: var(--fill-color);\n",
              "      border-top-color: var(--fill-color);\n",
              "    }\n",
              "    30% {\n",
              "      border-color: transparent;\n",
              "      border-left-color: var(--fill-color);\n",
              "      border-top-color: var(--fill-color);\n",
              "      border-right-color: var(--fill-color);\n",
              "    }\n",
              "    40% {\n",
              "      border-color: transparent;\n",
              "      border-right-color: var(--fill-color);\n",
              "      border-top-color: var(--fill-color);\n",
              "    }\n",
              "    60% {\n",
              "      border-color: transparent;\n",
              "      border-right-color: var(--fill-color);\n",
              "    }\n",
              "    80% {\n",
              "      border-color: transparent;\n",
              "      border-right-color: var(--fill-color);\n",
              "      border-bottom-color: var(--fill-color);\n",
              "    }\n",
              "    90% {\n",
              "      border-color: transparent;\n",
              "      border-bottom-color: var(--fill-color);\n",
              "    }\n",
              "  }\n",
              "</style>\n",
              "\n",
              "  <script>\n",
              "    async function quickchart(key) {\n",
              "      const quickchartButtonEl =\n",
              "        document.querySelector('#' + key + ' button');\n",
              "      quickchartButtonEl.disabled = true;  // To prevent multiple clicks.\n",
              "      quickchartButtonEl.classList.add('colab-df-spinner');\n",
              "      try {\n",
              "        const charts = await google.colab.kernel.invokeFunction(\n",
              "            'suggestCharts', [key], {});\n",
              "      } catch (error) {\n",
              "        console.error('Error during call to suggestCharts:', error);\n",
              "      }\n",
              "      quickchartButtonEl.classList.remove('colab-df-spinner');\n",
              "      quickchartButtonEl.classList.add('colab-df-quickchart-complete');\n",
              "    }\n",
              "    (() => {\n",
              "      let quickchartButtonEl =\n",
              "        document.querySelector('#df-cbf3f3ec-a4cb-4c7f-8d3c-e961f6d8d276 button');\n",
              "      quickchartButtonEl.style.display =\n",
              "        google.colab.kernel.accessAllowed ? 'block' : 'none';\n",
              "    })();\n",
              "  </script>\n",
              "</div>\n",
              "\n",
              "    </div>\n",
              "  </div>\n"
            ],
            "application/vnd.google.colaboratory.intrinsic+json": {
              "type": "dataframe",
              "variable_name": "df",
              "summary": "{\n  \"name\": \"df\",\n  \"rows\": 12,\n  \"fields\": [\n    {\n      \"column\": \"Month\",\n      \"properties\": {\n        \"dtype\": \"string\",\n        \"num_unique_values\": 12,\n        \"samples\": [\n          \"NOV\",\n          \"OCT\",\n          \"JAN\"\n        ],\n        \"semantic_type\": \"\",\n        \"description\": \"\"\n      }\n    },\n    {\n      \"column\": \" \\\"1958\\\"\",\n      \"properties\": {\n        \"dtype\": \"number\",\n        \"std\": 64,\n        \"min\": 310,\n        \"max\": 505,\n        \"num_unique_values\": 12,\n        \"samples\": [\n          310,\n          359,\n          340\n        ],\n        \"semantic_type\": \"\",\n        \"description\": \"\"\n      }\n    },\n    {\n      \"column\": \" \\\"1959\\\"\",\n      \"properties\": {\n        \"dtype\": \"number\",\n        \"std\": 69,\n        \"min\": 342,\n        \"max\": 559,\n        \"num_unique_values\": 12,\n        \"samples\": [\n          362,\n          407,\n          360\n        ],\n        \"semantic_type\": \"\",\n        \"description\": \"\"\n      }\n    },\n    {\n      \"column\": \" \\\"1960\\\"\",\n      \"properties\": {\n        \"dtype\": \"number\",\n        \"std\": 77,\n        \"min\": 390,\n        \"max\": 622,\n        \"num_unique_values\": 11,\n        \"samples\": [\n          535,\n          417,\n          390\n        ],\n        \"semantic_type\": \"\",\n        \"description\": \"\"\n      }\n    }\n  ]\n}"
            }
          },
          "metadata": {},
          "execution_count": 9
        }
      ]
    },
    {
      "cell_type": "markdown",
      "source": [
        "**Observation:**\n",
        "\n",
        "* The data shows monthly airline passenger numbers for different months across years.\n",
        "\n",
        "* The rows seem to represent months, and the columns are years.\n",
        "\n",
        "* It is wide format (each year is a separate column).\n",
        "\n",
        "* The first column likely contains the month names, while other columns show passenger counts.\n"
      ],
      "metadata": {
        "id": "lvuIhxNXvjlJ"
      }
    },
    {
      "cell_type": "code",
      "source": [
        "''' 6.Load the CSV from Q5 and find:\n",
        "  The month with the highest total passengers\n",
        "  The month with the lowest in 1958\n",
        "   '''"
      ],
      "metadata": {
        "id": "eBLHbASmxfrM"
      },
      "execution_count": null,
      "outputs": []
    },
    {
      "cell_type": "code",
      "source": [
        "import pandas as pd\n",
        "\n",
        "# Load the CSV and clean column names\n",
        "df = pd.read_csv('airtravel.csv')\n",
        "\n",
        "# Remove leading/trailing spaces and strip quotes from column names\n",
        "df.columns = df.columns.str.strip().str.replace('\"', '')  # Remove extra quotes\n",
        "\n",
        "# Print column names to confirm\n",
        "print(df.columns)\n",
        "\n",
        "# Month with highest total passengers\n",
        "df['Total'] = df['1958'] + df['1959'] + df['1960']\n",
        "highest_month = df.loc[df['Total'].idxmax(), 'Month']\n",
        "\n",
        "# Month with lowest passengers in 1958\n",
        "lowest_1958_month = df.loc[df['1958'].idxmin(), 'Month']\n",
        "\n",
        "print(\"Month with highest total passengers:\", highest_month)\n",
        "print(\"Month with lowest passengers in 1958:\", lowest_1958_month)\n"
      ],
      "metadata": {
        "colab": {
          "base_uri": "https://localhost:8080/"
        },
        "id": "nhcp-lG4yP6m",
        "outputId": "96c325c5-d2d3-458c-89db-0e7214a6951d"
      },
      "execution_count": 17,
      "outputs": [
        {
          "output_type": "stream",
          "name": "stdout",
          "text": [
            "Index(['Month', '1958', '1959', '1960'], dtype='object')\n",
            "Month with highest total passengers: AUG\n",
            "Month with lowest passengers in 1958: NOV\n"
          ]
        }
      ]
    },
    {
      "cell_type": "markdown",
      "source": [
        "**Explanation:**\n",
        "\n",
        "* Highest total passengers: We calculate the sum of passengers across all three years (1958-1960) for each month. July (JUL) has the highest cumulative total of 1661 passengers (491 + 548 + 622).\n",
        "\n",
        "* Lowest in 1958: November (NOV) has the lowest passenger count (310) in the year 1958."
      ],
      "metadata": {
        "id": "YZTKyNS32DGW"
      }
    },
    {
      "cell_type": "code",
      "source": [
        "# 7.  What does the .groupby() function do in pandas? Show an example using dummy data."
      ],
      "metadata": {
        "id": "JbMZkAK32d1x"
      },
      "execution_count": null,
      "outputs": []
    },
    {
      "cell_type": "markdown",
      "source": [
        "* **The .groupby()** function in pandas is used to group data based on one or more columns. It allows you to perform operations on each group independently, such as aggregation (e.g., sum, mean), transformation, or filtering.\n",
        "**Example:**\n",
        "We will create a small DataFrame with information about employees in different departments and their salaries, and then group the data by the department to calculate the average salary for each department. the example is below"
      ],
      "metadata": {
        "id": "KPKE3UGU3Fh1"
      }
    },
    {
      "cell_type": "code",
      "source": [
        "import pandas as pd\n",
        "\n",
        "# Creating a DataFrame with dummy data\n",
        "data = {\n",
        "    'Employee': ['Alice', 'Bob', 'Charlie', 'David', 'Eve'],\n",
        "    'Department': ['HR', 'IT', 'IT', 'HR', 'IT'],\n",
        "    'Salary': [50000, 60000, 55000, 48000, 62000]\n",
        "}\n",
        "\n",
        "df = pd.DataFrame(data)\n",
        "\n",
        "# Grouping the data by 'Department' and calculating the average salary for each department\n",
        "grouped = df.groupby('Department')['Salary'].mean()\n",
        "\n",
        "# Displaying the result\n",
        "print(grouped)\n"
      ],
      "metadata": {
        "colab": {
          "base_uri": "https://localhost:8080/"
        },
        "id": "E8Uko7GM3dlg",
        "outputId": "76281a7f-50ad-424d-ead0-744e8c3ffa55"
      },
      "execution_count": 18,
      "outputs": [
        {
          "output_type": "stream",
          "name": "stdout",
          "text": [
            "Department\n",
            "HR    49000.0\n",
            "IT    59000.0\n",
            "Name: Salary, dtype: float64\n"
          ]
        }
      ]
    },
    {
      "cell_type": "markdown",
      "source": [
        "**Explanation:**\n",
        "- We first create a DataFrame df with employee names, their respective departments, and salaries.\n",
        "\n",
        "- We then group the data by the 'Department' column and calculate the mean salary for each department using .mean().\n",
        "\n",
        "- The result will show the average salary for each department."
      ],
      "metadata": {
        "id": "W7CP46v_3lYW"
      }
    },
    {
      "cell_type": "code",
      "source": [
        "''' 8. Load the Titanic dataset from seaborn and:\n",
        "\n",
        "  Count how many missing values are in each column\n",
        "   '''"
      ],
      "metadata": {
        "id": "fPIgpA3238ji"
      },
      "execution_count": null,
      "outputs": []
    },
    {
      "cell_type": "code",
      "source": [
        "import seaborn as sns\n",
        "import pandas as pd\n",
        "\n",
        "# Load the Titanic dataset from seaborn\n",
        "titanic = sns.load_dataset('titanic')\n",
        "\n",
        "# Count the number of missing values in each column\n",
        "missing_values = titanic.isnull().sum()\n",
        "\n",
        "# Display the result\n",
        "missing_values\n"
      ],
      "metadata": {
        "colab": {
          "base_uri": "https://localhost:8080/",
          "height": 554
        },
        "id": "2PSdRwej4Qoe",
        "outputId": "5672c3a3-927d-4943-bfa5-f57e102031f0"
      },
      "execution_count": 19,
      "outputs": [
        {
          "output_type": "execute_result",
          "data": {
            "text/plain": [
              "survived         0\n",
              "pclass           0\n",
              "sex              0\n",
              "age            177\n",
              "sibsp            0\n",
              "parch            0\n",
              "fare             0\n",
              "embarked         2\n",
              "class            0\n",
              "who              0\n",
              "adult_male       0\n",
              "deck           688\n",
              "embark_town      2\n",
              "alive            0\n",
              "alone            0\n",
              "dtype: int64"
            ],
            "text/html": [
              "<div>\n",
              "<style scoped>\n",
              "    .dataframe tbody tr th:only-of-type {\n",
              "        vertical-align: middle;\n",
              "    }\n",
              "\n",
              "    .dataframe tbody tr th {\n",
              "        vertical-align: top;\n",
              "    }\n",
              "\n",
              "    .dataframe thead th {\n",
              "        text-align: right;\n",
              "    }\n",
              "</style>\n",
              "<table border=\"1\" class=\"dataframe\">\n",
              "  <thead>\n",
              "    <tr style=\"text-align: right;\">\n",
              "      <th></th>\n",
              "      <th>0</th>\n",
              "    </tr>\n",
              "  </thead>\n",
              "  <tbody>\n",
              "    <tr>\n",
              "      <th>survived</th>\n",
              "      <td>0</td>\n",
              "    </tr>\n",
              "    <tr>\n",
              "      <th>pclass</th>\n",
              "      <td>0</td>\n",
              "    </tr>\n",
              "    <tr>\n",
              "      <th>sex</th>\n",
              "      <td>0</td>\n",
              "    </tr>\n",
              "    <tr>\n",
              "      <th>age</th>\n",
              "      <td>177</td>\n",
              "    </tr>\n",
              "    <tr>\n",
              "      <th>sibsp</th>\n",
              "      <td>0</td>\n",
              "    </tr>\n",
              "    <tr>\n",
              "      <th>parch</th>\n",
              "      <td>0</td>\n",
              "    </tr>\n",
              "    <tr>\n",
              "      <th>fare</th>\n",
              "      <td>0</td>\n",
              "    </tr>\n",
              "    <tr>\n",
              "      <th>embarked</th>\n",
              "      <td>2</td>\n",
              "    </tr>\n",
              "    <tr>\n",
              "      <th>class</th>\n",
              "      <td>0</td>\n",
              "    </tr>\n",
              "    <tr>\n",
              "      <th>who</th>\n",
              "      <td>0</td>\n",
              "    </tr>\n",
              "    <tr>\n",
              "      <th>adult_male</th>\n",
              "      <td>0</td>\n",
              "    </tr>\n",
              "    <tr>\n",
              "      <th>deck</th>\n",
              "      <td>688</td>\n",
              "    </tr>\n",
              "    <tr>\n",
              "      <th>embark_town</th>\n",
              "      <td>2</td>\n",
              "    </tr>\n",
              "    <tr>\n",
              "      <th>alive</th>\n",
              "      <td>0</td>\n",
              "    </tr>\n",
              "    <tr>\n",
              "      <th>alone</th>\n",
              "      <td>0</td>\n",
              "    </tr>\n",
              "  </tbody>\n",
              "</table>\n",
              "</div><br><label><b>dtype:</b> int64</label>"
            ]
          },
          "metadata": {},
          "execution_count": 19
        }
      ]
    },
    {
      "cell_type": "markdown",
      "source": [
        "Explanation:\n",
        "* Loading the Titanic dataset: We use Seaborn's load_dataset('titanic') function to load the Titanic dataset.\n",
        "\n",
        "* Counting missing values: The .isnull() method returns a DataFrame of the same shape, where each cell is True if the value is missing and False if it's not. Then, .sum() counts the number of True values (i.e., missing values) in each column.\n",
        "\n",
        "* Displaying the result: We output the count of missing values for each column.\n",
        "\n",
        "In this example:\n",
        "\n",
        "-> The age column has 177 missing values.\n",
        "\n",
        "-> The embarked and embark_town columns each have 2 missing values."
      ],
      "metadata": {
        "id": "hPC0xO3e4VkU"
      }
    },
    {
      "cell_type": "code",
      "source": [
        "''' 9.  Use df[\"Age\"].hist() to visualize the age distribution.\n",
        "What shape do you see\n",
        "\n",
        "What might be the reason for the skew?\n",
        " '''"
      ],
      "metadata": {
        "id": "vYRcB-UA48vx"
      },
      "execution_count": null,
      "outputs": []
    },
    {
      "cell_type": "code",
      "source": [
        "import seaborn as sns\n",
        "import matplotlib.pyplot as plt\n",
        "\n",
        "# Load the Titanic dataset from seaborn\n",
        "titanic = sns.load_dataset('titanic')\n",
        "\n",
        "# Plot the histogram of the 'Age' column\n",
        "plt.figure(figsize=(10, 6))\n",
        "titanic['age'].hist(bins=20, edgecolor='black')\n",
        "plt.title('Age Distribution in Titanic Dataset')\n",
        "plt.xlabel('Age')\n",
        "plt.ylabel('Frequency')\n",
        "plt.show()\n"
      ],
      "metadata": {
        "colab": {
          "base_uri": "https://localhost:8080/",
          "height": 500
        },
        "id": "GjpQ0sNh5MXT",
        "outputId": "135f8a82-c2d7-4cb7-cc3d-badcedc66654"
      },
      "execution_count": 20,
      "outputs": [
        {
          "output_type": "display_data",
          "data": {
            "text/plain": [
              "<Figure size 1000x600 with 1 Axes>"
            ],
            "image/png": "[encoded data removed]"
          },
          "metadata": {}
        }
      ]
    },
    {
      "cell_type": "markdown",
      "source": [
        "**Explanation:**\n",
        "*titanic['age'].hist():* This function plots a histogram of the 'Age' column in the Titanic dataset. The bins=20 argument specifies the number of bins to group the data, and edgecolor='black' adds a black edge to each bin.\n",
        "\n",
        "**Matplotlib:** We use matplotlib.pyplot for controlling the display and layout of the plot.\n",
        "\n",
        "\n",
        "**Shape of the Distribution:**\n",
        "You will likely observe a right-skewed distribution, where most passengers' ages are clustered towards the lower end (younger passengers), with fewer older passengers.\n",
        "\n",
        "The histogram might look like a positively skewed distribution, where the tail stretches towards the right (older ages).\n",
        "\n",
        "**Reasons for the Skew:**\n",
        "**1.Passenger Demographics:** The Titanic was a transatlantic ship that primarily carried a mix of families, but also many younger passengers, including children. This could cause a higher frequency of younger passengers, leading to a concentration of data on the left.\n",
        "\n",
        "**2.Survival Bias:** Older passengers might have been more likely to perish in the sinking due to various factors like physical health, which could contribute to fewer older passengers in the dataset.\n",
        "\n",
        "**3.Sociodemographic Factors:** People in the age range from 20-40 may have been more likely to travel due to work or economic reasons, while younger children and elderly passengers may have been in the minority or traveled in different classes or circumstances."
      ],
      "metadata": {
        "id": "CKeilIbP5QJB"
      }
    },
    {
      "cell_type": "code",
      "source": [
        "''' 10. What does it mean if a column has a high standard deviation?\n",
        "\n",
        "  Create a list or column that has a low and a high std. dev, and compare.   '''"
      ],
      "metadata": {
        "id": "lNU-9Fj26NoC"
      },
      "execution_count": null,
      "outputs": []
    },
    {
      "cell_type": "markdown",
      "source": [
        "**Explanation of High Standard Deviation:**\n",
        "Standard Deviation (SD) measures the spread or dispersion of a set of values. It indicates how much individual values deviate from the mean (average).\n",
        "\n",
        "*High Standard Deviation* means the values are spread out over a wider range. This suggests there is more variability or diversity in the data. The higher the standard deviation, the more the data points differ from the mean.\n",
        "\n",
        "*Low Standard Deviation* means the values are clustered close to the mean, indicating less variability.\n",
        "\n",
        "*Example:*\n",
        "To demonstrate the difference between a column with high and low standard deviation, let's create two columns:\n",
        "\n",
        "A high-variance column (values widely spread out).\n",
        "\n",
        "A low-variance column (values tightly clustered around the mean)."
      ],
      "metadata": {
        "id": "hGf7q74j6pzy"
      }
    },
    {
      "cell_type": "code",
      "source": [
        "import pandas as pd\n",
        "import numpy as np\n",
        "\n",
        "# Creating a DataFrame with dummy data\n",
        "data = {\n",
        "    'High_Variance': [1, 5, 9, 13, 17, 21, 25, 29, 33, 37],\n",
        "    'Low_Variance': [10, 11, 12, 10, 11, 12, 10, 11, 12, 10]\n",
        "}\n",
        "\n",
        "df = pd.DataFrame(data)\n",
        "\n",
        "# Calculating the standard deviation for both columns\n",
        "high_std_dev = df['High_Variance'].std()\n",
        "low_std_dev = df['Low_Variance'].std()\n",
        "\n",
        "# Displaying the standard deviation values\n",
        "high_std_dev, low_std_dev\n"
      ],
      "metadata": {
        "colab": {
          "base_uri": "https://localhost:8080/"
        },
        "id": "70LG1q6x67lH",
        "outputId": "2d2bb69b-cbe8-47ed-da86-ede3c2ad6bec"
      },
      "execution_count": 21,
      "outputs": [
        {
          "output_type": "execute_result",
          "data": {
            "text/plain": [
              "(12.110601416389967, 0.8755950357709131)"
            ]
          },
          "metadata": {},
          "execution_count": 21
        }
      ]
    },
    {
      "cell_type": "markdown",
      "source": [
        "**Explanation:**\n",
        "*High_Variance:* The values in this column increase by 4 units at a time, leading to a wide spread of values. This should result in a high standard deviation.\n",
        "\n",
        "*Low_Variance:* The values in this column are very close to each other (between 10 and 12), so the spread is minimal, resulting in a low standard deviation.\n",
        "\n",
        "*Standard Deviation Calculation:* .std() is used to calculate the standard deviation for each column.\n",
        "\n",
        "*High_Variance* has a standard deviation of 12.11, indicating the values are spread far apart.\n",
        "\n",
        "*Low_Variance* has a standard deviation of 0.875, showing the values are closely packed around the mean."
      ],
      "metadata": {
        "id": "4ao9x4cz7Bnd"
      }
    },
    {
      "cell_type": "code",
      "source": [
        "# 11.What are some real-world problems where missing data might affect results? Give 2 examples."
      ],
      "metadata": {
        "id": "5CD5qEXF7Yxj"
      },
      "execution_count": null,
      "outputs": []
    },
    {
      "cell_type": "markdown",
      "source": [
        "* Missing data can significantly impact the accuracy and validity of analyses in real-world scenarios. Here are two examples where missing data can affect results:\n",
        "\n",
        "**1. Healthcare -** Patient Medical Records\n",
        "Problem: Missing data in patient medical records can impact diagnosis, treatment plans, and patient outcomes.\n",
        "\n",
        "*Impact:* If certain health metrics (e.g., blood pressure, lab results, medical history) are missing or incomplete, it could lead to incorrect diagnoses or delayed treatments. For example, missing data about a patient's allergy history could lead to prescribing medications that cause an adverse reaction, endangering the patient’s health.\n",
        "\n",
        "*Effect on Results:* Missing data in healthcare data can lead to biased treatment recommendations, incorrect predictions of patient health outcomes, or even jeopardize patient safety. Proper handling of missing data (e.g., imputation or identifying missing patterns) is crucial to ensure the reliability of healthcare systems.\n",
        "\n",
        "**2. Finance -** Credit Scoring Models\n",
        "Problem: In the finance industry, credit scoring models rely on data such as income, employment history, and past credit behavior to determine an individual’s creditworthiness.\n",
        "\n",
        "*Impact:* Missing financial data, such as income level or previous loan repayment history, can lead to incorrect assessments of an individual's ability to repay loans. For instance, if a person’s income data is missing, a model might classify them as a higher credit risk, denying them access to financial services they are actually qualified for.\n",
        "\n",
        "*Effect on Results:* Missing data in this context can lead to inaccurate credit scores, affecting financial decisions such as loan approvals, interest rates, and the issuance of credit cards. This can lead to unfair outcomes for individuals and financial institutions making suboptimal lending decisions."
      ],
      "metadata": {
        "id": "ClX4WyBG8our"
      }
    }
  ]
}